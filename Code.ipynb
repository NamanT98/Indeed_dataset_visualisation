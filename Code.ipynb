{
  "cells": [
    {
      "cell_type": "markdown",
      "id": "158fc797-598c-4bbf-a4ad-5dd9eb8f1810",
      "metadata": {
        "id": "158fc797-598c-4bbf-a4ad-5dd9eb8f1810"
      },
      "source": [
        "# Data Analysis and Visualization Assignment-1\n",
        "\n",
        "## Team Memebers (NAME + ROLL)\n",
        "-   Naman Trisoliya 12141150\n",
        "-   Lovy Verma 12140990\n",
        "-  "
      ]
    },
    {
      "cell_type": "markdown",
      "id": "ea44e71d-4b22-4f0c-8b49-793407c0fe99",
      "metadata": {
        "id": "ea44e71d-4b22-4f0c-8b49-793407c0fe99"
      },
      "source": [
        "# Data Scraping + EDA"
      ]
    },
    {
      "cell_type": "code",
      "execution_count": 31,
      "id": "5636170a-3ea7-49dd-8043-e2a9cd1b4fc2",
      "metadata": {
        "colab": {
          "base_uri": "https://localhost:8080/"
        },
        "id": "5636170a-3ea7-49dd-8043-e2a9cd1b4fc2",
        "outputId": "0e687ecb-f0f5-4b3e-a6b4-10d5d506042b",
        "tags": []
      },
      "outputs": [
        {
          "name": "stdout",
          "output_type": "stream",
          "text": [
            "^C\n"
          ]
        },
        {
          "name": "stdout",
          "output_type": "stream",
          "text": [
            "Defaulting to user installation because normal site-packages is not writeable\n",
            "Requirement already satisfied: beautifulsoup4 in c:\\users\\naman\\appdata\\roaming\\python\\python310\\site-packages (4.11.1)\n",
            "Requirement already satisfied: selenium in c:\\users\\naman\\appdata\\roaming\\python\\python310\\site-packages (4.4.3)\n",
            "Requirement already satisfied: webdriver_manager in c:\\users\\naman\\appdata\\roaming\\python\\python310\\site-packages (3.8.5)\n",
            "Requirement already satisfied: tqdm in c:\\users\\naman\\appdata\\roaming\\python\\python310\\site-packages (4.64.0)\n",
            "Requirement already satisfied: soupsieve>1.2 in c:\\users\\naman\\appdata\\roaming\\python\\python310\\site-packages (from beautifulsoup4) (2.3.2.post1)\n",
            "Requirement already satisfied: trio-websocket~=0.9 in c:\\users\\naman\\appdata\\roaming\\python\\python310\\site-packages (from selenium) (0.9.2)\n",
            "Requirement already satisfied: trio~=0.17 in c:\\users\\naman\\appdata\\roaming\\python\\python310\\site-packages (from selenium) (0.21.0)\n",
            "Requirement already satisfied: urllib3[socks]~=1.26 in c:\\users\\naman\\appdata\\roaming\\python\\python310\\site-packages (from selenium) (1.26.11)\n",
            "Requirement already satisfied: certifi>=2021.10.8 in c:\\users\\naman\\appdata\\roaming\\python\\python310\\site-packages (from selenium) (2022.6.15)\n",
            "Requirement already satisfied: requests in c:\\users\\naman\\appdata\\roaming\\python\\python310\\site-packages (from webdriver_manager) (2.27.1)\n",
            "Requirement already satisfied: python-dotenv in c:\\users\\naman\\appdata\\roaming\\python\\python310\\site-packages (from webdriver_manager) (1.0.0)\n",
            "Requirement already satisfied: packaging in c:\\users\\naman\\appdata\\roaming\\python\\python310\\site-packages (from webdriver_manager) (21.3)\n",
            "Requirement already satisfied: colorama in c:\\users\\naman\\appdata\\roaming\\python\\python310\\site-packages (from tqdm) (0.4.5)\n",
            "Requirement already satisfied: async-generator>=1.9 in c:\\users\\naman\\appdata\\roaming\\python\\python310\\site-packages (from trio~=0.17->selenium) (1.10)\n",
            "Requirement already satisfied: attrs>=19.2.0 in c:\\users\\naman\\appdata\\roaming\\python\\python310\\site-packages (from trio~=0.17->selenium) (22.1.0)\n",
            "Requirement already satisfied: sortedcontainers in c:\\users\\naman\\appdata\\roaming\\python\\python310\\site-packages (from trio~=0.17->selenium) (2.4.0)\n",
            "Requirement already satisfied: sniffio in c:\\users\\naman\\appdata\\roaming\\python\\python310\\site-packages (from trio~=0.17->selenium) (1.2.0)\n",
            "Requirement already satisfied: idna in c:\\users\\naman\\appdata\\roaming\\python\\python310\\site-packages (from trio~=0.17->selenium) (3.3)\n",
            "Requirement already satisfied: cffi>=1.14 in c:\\users\\naman\\appdata\\roaming\\python\\python310\\site-packages (from trio~=0.17->selenium) (1.15.1)\n",
            "Requirement already satisfied: outcome in c:\\users\\naman\\appdata\\roaming\\python\\python310\\site-packages (from trio~=0.17->selenium) (1.2.0)\n",
            "Requirement already satisfied: wsproto>=0.14 in c:\\users\\naman\\appdata\\roaming\\python\\python310\\site-packages (from trio-websocket~=0.9->selenium) (1.1.0)\n",
            "Requirement already satisfied: PySocks!=1.5.7,<2.0,>=1.5.6 in c:\\users\\naman\\appdata\\roaming\\python\\python310\\site-packages (from urllib3[socks]~=1.26->selenium) (1.7.1)\n",
            "Requirement already satisfied: pyparsing!=3.0.5,>=2.0.2 in c:\\users\\naman\\appdata\\roaming\\python\\python310\\site-packages (from packaging->webdriver_manager) (3.0.9)\n",
            "Requirement already satisfied: charset-normalizer~=2.0.0 in c:\\users\\naman\\appdata\\roaming\\python\\python310\\site-packages (from requests->webdriver_manager) (2.0.12)\n",
            "Requirement already satisfied: pycparser in c:\\users\\naman\\appdata\\roaming\\python\\python310\\site-packages (from cffi>=1.14->trio~=0.17->selenium) (2.21)\n",
            "Requirement already satisfied: h11<1,>=0.9.0 in c:\\users\\naman\\appdata\\roaming\\python\\python310\\site-packages (from wsproto>=0.14->trio-websocket~=0.9->selenium) (0.13.0)\n"
          ]
        },
        {
          "name": "stderr",
          "output_type": "stream",
          "text": [
            "WARNING: Ignoring invalid distribution -illow (c:\\users\\naman\\appdata\\roaming\\python\\python310\\site-packages)\n",
            "WARNING: Ignoring invalid distribution -illow (c:\\users\\naman\\appdata\\roaming\\python\\python310\\site-packages)\n",
            "WARNING: Ignoring invalid distribution -illow (c:\\users\\naman\\appdata\\roaming\\python\\python310\\site-packages)\n",
            "WARNING: Ignoring invalid distribution -illow (c:\\users\\naman\\appdata\\roaming\\python\\python310\\site-packages)\n",
            "WARNING: Ignoring invalid distribution -illow (c:\\users\\naman\\appdata\\roaming\\python\\python310\\site-packages)\n",
            "WARNING: Ignoring invalid distribution -illow (c:\\users\\naman\\appdata\\roaming\\python\\python310\\site-packages)\n"
          ]
        }
      ],
      "source": [
        "!pip install beautifulsoup4 selenium webdriver_manager tqdm"
      ]
    },
    {
      "cell_type": "markdown",
      "id": "c82b0ba1-7dc0-4431-8e3d-f7f1a95112d7",
      "metadata": {
        "id": "c82b0ba1-7dc0-4431-8e3d-f7f1a95112d7",
        "jp-MarkdownHeadingCollapsed": true,
        "tags": []
      },
      "source": [
        "## Import Libraries"
      ]
    },
    {
      "cell_type": "code",
      "execution_count": 1,
      "id": "7c412ccd-9e5e-4a3a-b084-4da229040897",
      "metadata": {
        "id": "7c412ccd-9e5e-4a3a-b084-4da229040897"
      },
      "outputs": [],
      "source": [
        "import os\n",
        "import pandas as pd\n",
        "import numpy as np\n",
        "import time\n",
        "import matplotlib.pyplot as plt\n",
        "%matplotlib inline\n",
        "import seaborn as sns\n",
        "import plotly as pt\n",
        "from bs4 import BeautifulSoup\n",
        "from selenium import webdriver\n",
        "from webdriver_manager.chrome import ChromeDriverManager\n",
        "from selenium.webdriver.chrome.service import Service\n",
        "from selenium.webdriver.chrome.options import Options\n",
        "from datetime import date\n",
        "from selenium.webdriver.common.by import By\n",
        "from selenium.webdriver.chrome.options import Options"
      ]
    },
    {
      "cell_type": "markdown",
      "id": "27db8064-bcbf-42ca-877f-89170d6054a3",
      "metadata": {
        "id": "27db8064-bcbf-42ca-877f-89170d6054a3",
        "jp-MarkdownHeadingCollapsed": true,
        "tags": []
      },
      "source": [
        "## Websriver Creation"
      ]
    },
    {
      "cell_type": "code",
      "execution_count": 20,
      "id": "b0b71750-b5c3-413d-9d7f-1c0e89826788",
      "metadata": {
        "colab": {
          "base_uri": "https://localhost:8080/",
          "height": 652
        },
        "id": "b0b71750-b5c3-413d-9d7f-1c0e89826788",
        "outputId": "2cb44468-2f67-47ad-e8b2-27cf7c28aaa0",
        "tags": []
      },
      "outputs": [],
      "source": [
        "# Driver creation\n",
        "chrome_options = Options() # Initializing am options object \n",
        "\n",
        "# chrome_options.add_argument(\"--headless\") # Ensure GUI is off\n",
        "chrome_options.add_argument(\"--no-sandbox\")\n",
        "# chrome_options.binary_location = \"/sbin/brave\" # optional, if you don't have chrome\n",
        "\n",
        "# Silent download of drivers\n",
        "os.environ['WDM_LOG'] = 'False'\n",
        "\n",
        "# Create service\n",
        "webdriver_service = Service(ChromeDriverManager().install())\n",
        "driver = webdriver.Chrome(service = webdriver_service, options = chrome_options)\n",
        "driver2=webdriver.Chrome(service=webdriver_service, options = chrome_options)"
      ]
    },
    {
      "attachments": {},
      "cell_type": "markdown",
      "id": "ef0dd773-f22d-472f-9613-201517176181",
      "metadata": {
        "id": "ef0dd773-f22d-472f-9613-201517176181"
      },
      "source": [
        "## Data Scraping\n",
        "Scrape the job-postings for the following roles in India:\n",
        "- Data Engineer\n",
        "- Data Analyst\n",
        "- Data Scientist\n",
        "- Machine Learning Engineer\n",
        "\n",
        "**Instructions**\n",
        "- Scrape 300 Job postings per role\n",
        "- For each job posting, extract the following information:\n",
        "     - job_title\n",
        "     - job_role (one of the above 4)\n",
        "     - company\n",
        "     - job_location\n",
        "     - job_summary\n",
        "     - post_date (posted how many days ago)\n",
        "     - today (date)\n",
        "     - job_salary(if not present, fill it with NaN)\n",
        "     - Job_url\n",
        "- Create a dataframe from this information"
      ]
    },
    {
      "cell_type": "code",
      "execution_count": null,
      "id": "b27e9b75-266b-421f-893a-b75fb7e885ac",
      "metadata": {
        "colab": {
          "base_uri": "https://localhost:8080/",
          "height": 263
        },
        "id": "b27e9b75-266b-421f-893a-b75fb7e885ac",
        "outputId": "b26b99c8-dbcc-4bdb-ff23-3f62905a412a",
        "tags": []
      },
      "outputs": [],
      "source": [
        "roles = ['Data Engineer','Data Analyst','Data Scientist']\n",
        "data={\"job_title\":[],\"job_role\":[],\"company\":[],\"job_location\":[],\"job_summary\":[],\"post_date\":[],\"today\":[],\"job_salary\":[],\"job_url\":[]}\n",
        "today=date.today()\n",
        "# Scrape 300 Job postings per role\n",
        "for role in roles:\n",
        "    print(f\"Companies offering jobs for {role} role:-\")\n",
        "    word=role.split(\" \")[0]\n",
        "    count=0\n",
        "    for i in range(30):\n",
        "        link = f\"https://in.indeed.com/jobs?q={role.replace(' ', '+')}&l=India&start={10*i}\"\n",
        "        driver.get(link)\n",
        "        page_source = driver.page_source\n",
        "        # Parse 1-page\n",
        "        soup = BeautifulSoup(page_source, 'lxml')\n",
        "        url=soup.find_all(\"a\",attrs={\"class\":\"jcs-JobTitle css-jspxzf eu4oa1w0\"})\n",
        "        for j in range(len(url)):\n",
        "            job_link=\"https://in.indeed.com\"+url[j][\"href\"]\n",
        "            driver2.get(job_link)\n",
        "            job=driver2.page_source\n",
        "            job_page=BeautifulSoup(job,\"lxml\")\n",
        "            head=job_page.find(\"h1\",attrs={\"class\":\"icl-u-xs-mb--xs icl-u-xs-mt--none jobsearch-JobInfoHeader-title\"})\n",
        "            if not head:\n",
        "                driver2.close()\n",
        "                driver2=webdriver.Chrome(service=webdriver_service, options = chrome_options)\n",
        "            else:\n",
        "                title=head.find(\"span\").text\n",
        "                if title.__contains__(word):\n",
        "                    count+=1\n",
        "                    # no=count/60\n",
        "                    # if no==1.0 or no==2.0 or no==3.0 or no==4.0 or no==5.0 or no==6.0:\n",
        "                        # driver2.close()\n",
        "                        # driver2=webdriver.Chrome(service=webdriver_service, options = chrome_options)\n",
        "                    data[\"job_title\"].append(title)\n",
        "                    data[\"job_role\"].append(role)\n",
        "                    data[\"company\"].append(job_page.find(\"div\",attrs={\"data-company-name\":\"true\"}).text)\n",
        "                    data[\"job_location\"].append(job_page.find(\"div\",attrs={\"class\":\"css-6z8o9s eu4oa1w0\"}).text)\n",
        "                    check_sum=job_page.find(\"div\",attrs={\"class\":\"jobsearch-jobDescriptionText\"}).find(\"ul\")\n",
        "                    if check_sum:\n",
        "                        summary=job_page.find(\"div\",attrs={\"class\":\"jobsearch-jobDescriptionText\"}).find(\"ul\").text.strip()\n",
        "                    else:\n",
        "                        summary=job_page.find(\"div\",attrs={\"class\":\"jobsearch-jobDescriptionText\"}).text.strip()\n",
        "                    summary=summary.split(\"\\n\")\n",
        "                    data[\"job_summary\"].append(\".\".join(summary))\n",
        "                    data[\"post_date\"].append(job_page.find(\"span\",attrs={\"class\":\"css-kyg8or eu4oa1w0\"}).text)\n",
        "                    data[\"today\"].append(str(today))\n",
        "                    salary=job_page.find(\"span\",attrs={\"class\":\"css-2iqe2o eu4oa1w0\"})\n",
        "                    if salary:\n",
        "                        data[\"job_salary\"].append(salary.text)\n",
        "                    else:\n",
        "                        data[\"job_salary\"].append(\"?\")\n",
        "                    data[\"job_url\"].append(job_link)\n",
        "                    print(count)"
      ]
    },
    {
      "cell_type": "code",
      "execution_count": null,
      "id": "3b417e84",
      "metadata": {},
      "outputs": [],
      "source": [
        "\n",
        "df=pd.DataFrame(data)\n",
        "df"
      ]
    },
    {
      "cell_type": "code",
      "execution_count": null,
      "id": "015c25b2",
      "metadata": {},
      "outputs": [],
      "source": [
        "df.to_csv(\"data2.csv\",index=False)"
      ]
    },
    {
      "attachments": {},
      "cell_type": "markdown",
      "id": "686c0c01",
      "metadata": {},
      "source": [
        "### Making Dataframe for Machine Learning Engineer"
      ]
    },
    {
      "cell_type": "code",
      "execution_count": null,
      "id": "250bff38",
      "metadata": {},
      "outputs": [],
      "source": [
        "driver = webdriver.Chrome(service = webdriver_service, options = chrome_options)\n",
        "driver2=webdriver.Chrome(service=webdriver_service, options = chrome_options)\n",
        "role='Machine Learning Engineer'\n",
        "data_ml3={\"job_title\":[],\"job_role\":[],\"company\":[],\"job_location\":[],\"job_summary\":[],\"post_date\":[],\"today\":[],\"job_salary\":[],\"job_url\":[]}\n",
        "count=0\n",
        "for i in range(40):\n",
        "        link = f\"https://in.indeed.com/jobs?q={role.replace(' ', '+')}&l=India&start={10*i}\"\n",
        "        driver.get(link)\n",
        "        page_source = driver.page_source\n",
        "        # Parse 1-page\n",
        "        soup = BeautifulSoup(page_source, 'lxml')\n",
        "        url=soup.find_all(\"a\",attrs={\"class\":\"jcs-JobTitle css-jspxzf eu4oa1w0\"})\n",
        "        for j in range(len(url)):\n",
        "            job_link=\"https://in.indeed.com\"+url[j][\"href\"]\n",
        "            driver2.get(job_link)\n",
        "            job=driver2.page_source\n",
        "            job_page=BeautifulSoup(job,\"lxml\")\n",
        "            head=job_page.find(\"h1\",attrs={\"class\":\"icl-u-xs-mb--xs icl-u-xs-mt--none jobsearch-JobInfoHeader-title\"})\n",
        "            if not head:\n",
        "                driver2.close()\n",
        "                driver2=webdriver.Chrome(service=webdriver_service, options = chrome_options)\n",
        "            else:\n",
        "                title=head.find(\"span\").text\n",
        "                if title.__contains__(word) or title.__contains__(\"ML\"):\n",
        "                    count+=1\n",
        "                    # no=count/60\n",
        "                    # if no==1.0 or no==2.0 or no==3.0 or no==4.0 or no==5.0 or no==6.0:\n",
        "                        # driver2.close()\n",
        "                        # driver2=webdriver.Chrome(service=webdriver_service, options = chrome_options)\n",
        "                    data_ml3[\"job_title\"].append(title)\n",
        "                    data_ml3[\"job_role\"].append(role)\n",
        "                    data_ml3[\"company\"].append(job_page.find(\"div\",attrs={\"data-company-name\":\"true\"}).text)\n",
        "                    data_ml3[\"job_location\"].append(job_page.find(\"div\",attrs={\"class\":\"css-6z8o9s eu4oa1w0\"}).text)\n",
        "                    check_sum=job_page.find(\"div\",attrs={\"class\":\"jobsearch-jobDescriptionText\"}).find(\"ul\")\n",
        "                    if check_sum:\n",
        "                        summary=job_page.find(\"div\",attrs={\"class\":\"jobsearch-jobDescriptionText\"}).find(\"ul\").text.strip()\n",
        "                    else:\n",
        "                        summary=job_page.find(\"div\",attrs={\"class\":\"jobsearch-jobDescriptionText\"}).text.strip()\n",
        "                    summary=summary.split(\"\\n\")\n",
        "                    data_ml3[\"job_summary\"].append(\".\".join(summary))\n",
        "                    data_ml3[\"post_date\"].append(job_page.find(\"span\",attrs={\"class\":\"css-kyg8or eu4oa1w0\"}).text)\n",
        "                    data_ml3[\"today\"].append(str(today))\n",
        "                    salary=job_page.find(\"span\",attrs={\"class\":\"css-2iqe2o eu4oa1w0\"})\n",
        "                    if salary:\n",
        "                        data_ml3[\"job_salary\"].append(salary.text)\n",
        "                    else:\n",
        "                        data_ml3[\"job_salary\"].append(\"?\")\n",
        "                    data_ml3[\"job_url\"].append(job_link)\n",
        "                    print(count)"
      ]
    },
    {
      "cell_type": "code",
      "execution_count": null,
      "id": "ba965f65",
      "metadata": {},
      "outputs": [
        {
          "data": {
            "text/html": [
              "<div>\n",
              "<style scoped>\n",
              "    .dataframe tbody tr th:only-of-type {\n",
              "        vertical-align: middle;\n",
              "    }\n",
              "\n",
              "    .dataframe tbody tr th {\n",
              "        vertical-align: top;\n",
              "    }\n",
              "\n",
              "    .dataframe thead th {\n",
              "        text-align: right;\n",
              "    }\n",
              "</style>\n",
              "<table border=\"1\" class=\"dataframe\">\n",
              "  <thead>\n",
              "    <tr style=\"text-align: right;\">\n",
              "      <th></th>\n",
              "      <th>job_title</th>\n",
              "      <th>job_role</th>\n",
              "      <th>company</th>\n",
              "      <th>job_location</th>\n",
              "      <th>job_summary</th>\n",
              "      <th>post_date</th>\n",
              "      <th>today</th>\n",
              "      <th>job_salary</th>\n",
              "      <th>job_url</th>\n",
              "    </tr>\n",
              "  </thead>\n",
              "  <tbody>\n",
              "    <tr>\n",
              "      <th>0</th>\n",
              "      <td>Computer Vision Research/ Platform Engineer - ...</td>\n",
              "      <td>Machine Learning Engineer</td>\n",
              "      <td>Mercedes-Benz Research and Development India P...</td>\n",
              "      <td>Bengaluru, Karnataka</td>\n",
              "      <td>The research engineer will work with a dynamic...</td>\n",
              "      <td>Posted 30+ days ago</td>\n",
              "      <td>2023-03-08</td>\n",
              "      <td>?</td>\n",
              "      <td>https://in.indeed.com/rc/clk?jk=92c8c50773ef33...</td>\n",
              "    </tr>\n",
              "    <tr>\n",
              "      <th>1</th>\n",
              "      <td>Machine Learning Engineer</td>\n",
              "      <td>Machine Learning Engineer</td>\n",
              "      <td>Empiric Infosys</td>\n",
              "      <td>Surat, Gujarat</td>\n",
              "      <td>Study and transform data science prototypes.De...</td>\n",
              "      <td>Posted 11 days ago</td>\n",
              "      <td>2023-03-08</td>\n",
              "      <td>₹20,000 - ₹30,000 a month</td>\n",
              "      <td>https://in.indeed.com/company/Empiric-Infosys/...</td>\n",
              "    </tr>\n",
              "    <tr>\n",
              "      <th>2</th>\n",
              "      <td>Engineering Services Engineer - Machine Learning</td>\n",
              "      <td>Machine Learning Engineer</td>\n",
              "      <td>Siemens</td>\n",
              "      <td>Pune, Maharashtra</td>\n",
              "      <td>Experience with classical ML algorithms includ...</td>\n",
              "      <td>Posted 13 days ago</td>\n",
              "      <td>2023-03-08</td>\n",
              "      <td>?</td>\n",
              "      <td>https://in.indeed.com/rc/clk?jk=40f78255092ac9...</td>\n",
              "    </tr>\n",
              "    <tr>\n",
              "      <th>3</th>\n",
              "      <td>Machine Learning Engineer</td>\n",
              "      <td>Machine Learning Engineer</td>\n",
              "      <td>Tookitaki Holding PTE LTD</td>\n",
              "      <td>India</td>\n",
              "      <td>Build a united big data processing and feature...</td>\n",
              "      <td>Posted 30+ days ago</td>\n",
              "      <td>2023-03-08</td>\n",
              "      <td>?</td>\n",
              "      <td>https://in.indeed.com/rc/clk?jk=85bc4572146a2d...</td>\n",
              "    </tr>\n",
              "    <tr>\n",
              "      <th>4</th>\n",
              "      <td>Machine Learning Engineer</td>\n",
              "      <td>Machine Learning Engineer</td>\n",
              "      <td>Finarkein Analytics Pvt. Ltd.</td>\n",
              "      <td>Pune, Maharashtra</td>\n",
              "      <td>Design, build and evaluate data models and dat...</td>\n",
              "      <td>Posted 30+ days ago</td>\n",
              "      <td>2023-03-08</td>\n",
              "      <td>₹7,00,000 - ₹15,00,000 a year</td>\n",
              "      <td>https://in.indeed.com/company/Finarkein-Analyt...</td>\n",
              "    </tr>\n",
              "    <tr>\n",
              "      <th>...</th>\n",
              "      <td>...</td>\n",
              "      <td>...</td>\n",
              "      <td>...</td>\n",
              "      <td>...</td>\n",
              "      <td>...</td>\n",
              "      <td>...</td>\n",
              "      <td>...</td>\n",
              "      <td>...</td>\n",
              "      <td>...</td>\n",
              "    </tr>\n",
              "    <tr>\n",
              "      <th>247</th>\n",
              "      <td>Lead Machine Learning</td>\n",
              "      <td>Machine Learning Engineer</td>\n",
              "      <td>Shri Vile Parle Kelavani Mandal</td>\n",
              "      <td>Mumbai, Maharashtra</td>\n",
              "      <td>Understanding business objectives and developi...</td>\n",
              "      <td>Posted 30+ days ago</td>\n",
              "      <td>2023-03-08</td>\n",
              "      <td>?</td>\n",
              "      <td>https://in.indeed.com/rc/clk?jk=4d71a367a8065d...</td>\n",
              "    </tr>\n",
              "    <tr>\n",
              "      <th>248</th>\n",
              "      <td>Senior Research Engineer - Edge AI/ML</td>\n",
              "      <td>Machine Learning Engineer</td>\n",
              "      <td>Harman International</td>\n",
              "      <td>Bengaluru, Karnataka</td>\n",
              "      <td>Develop and mature new technologies related to...</td>\n",
              "      <td>Posted 30+ days ago</td>\n",
              "      <td>2023-03-08</td>\n",
              "      <td>?</td>\n",
              "      <td>https://in.indeed.com/rc/clk?jk=5b97a56c70ff29...</td>\n",
              "    </tr>\n",
              "    <tr>\n",
              "      <th>249</th>\n",
              "      <td>Sr Engineer AI &amp; MLOps</td>\n",
              "      <td>Machine Learning Engineer</td>\n",
              "      <td>Alcon</td>\n",
              "      <td>Bengaluru, Karnataka</td>\n",
              "      <td>Hands-on Development and Support experience wi...</td>\n",
              "      <td>Posted 6 days ago</td>\n",
              "      <td>2023-03-08</td>\n",
              "      <td>?</td>\n",
              "      <td>https://in.indeed.com/rc/clk?jk=d31a2b6991be54...</td>\n",
              "    </tr>\n",
              "    <tr>\n",
              "      <th>250</th>\n",
              "      <td>Staff/Sr Software Engineer - Machine Learning</td>\n",
              "      <td>Machine Learning Engineer</td>\n",
              "      <td>Uber</td>\n",
              "      <td>Hyderabad, Telangana</td>\n",
              "      <td>About the Role.... About Customer Obsession ML...</td>\n",
              "      <td>Posted 30+ days ago</td>\n",
              "      <td>2023-03-08</td>\n",
              "      <td>?</td>\n",
              "      <td>https://in.indeed.com/pagead/clk?mo=r&amp;ad=-6NYl...</td>\n",
              "    </tr>\n",
              "    <tr>\n",
              "      <th>251</th>\n",
              "      <td>Lead Machine Learning Firmware Test Engineer</td>\n",
              "      <td>Machine Learning Engineer</td>\n",
              "      <td>Axiado</td>\n",
              "      <td>Hyderabad, Telangana</td>\n",
              "      <td>Responsible for testing of server platform Mac...</td>\n",
              "      <td>Posted 28 days ago</td>\n",
              "      <td>2023-03-08</td>\n",
              "      <td>?</td>\n",
              "      <td>https://in.indeed.com/rc/clk?jk=86b7ee059bfbd9...</td>\n",
              "    </tr>\n",
              "  </tbody>\n",
              "</table>\n",
              "<p>252 rows × 9 columns</p>\n",
              "</div>"
            ],
            "text/plain": [
              "                                             job_title  \\\n",
              "0    Computer Vision Research/ Platform Engineer - ...   \n",
              "1                            Machine Learning Engineer   \n",
              "2     Engineering Services Engineer - Machine Learning   \n",
              "3                            Machine Learning Engineer   \n",
              "4                            Machine Learning Engineer   \n",
              "..                                                 ...   \n",
              "247                              Lead Machine Learning   \n",
              "248              Senior Research Engineer - Edge AI/ML   \n",
              "249                             Sr Engineer AI & MLOps   \n",
              "250      Staff/Sr Software Engineer - Machine Learning   \n",
              "251       Lead Machine Learning Firmware Test Engineer   \n",
              "\n",
              "                      job_role  \\\n",
              "0    Machine Learning Engineer   \n",
              "1    Machine Learning Engineer   \n",
              "2    Machine Learning Engineer   \n",
              "3    Machine Learning Engineer   \n",
              "4    Machine Learning Engineer   \n",
              "..                         ...   \n",
              "247  Machine Learning Engineer   \n",
              "248  Machine Learning Engineer   \n",
              "249  Machine Learning Engineer   \n",
              "250  Machine Learning Engineer   \n",
              "251  Machine Learning Engineer   \n",
              "\n",
              "                                               company          job_location  \\\n",
              "0    Mercedes-Benz Research and Development India P...  Bengaluru, Karnataka   \n",
              "1                                      Empiric Infosys        Surat, Gujarat   \n",
              "2                                              Siemens     Pune, Maharashtra   \n",
              "3                            Tookitaki Holding PTE LTD                 India   \n",
              "4                        Finarkein Analytics Pvt. Ltd.     Pune, Maharashtra   \n",
              "..                                                 ...                   ...   \n",
              "247                    Shri Vile Parle Kelavani Mandal   Mumbai, Maharashtra   \n",
              "248                               Harman International  Bengaluru, Karnataka   \n",
              "249                                              Alcon  Bengaluru, Karnataka   \n",
              "250                                               Uber  Hyderabad, Telangana   \n",
              "251                                             Axiado  Hyderabad, Telangana   \n",
              "\n",
              "                                           job_summary            post_date  \\\n",
              "0    The research engineer will work with a dynamic...  Posted 30+ days ago   \n",
              "1    Study and transform data science prototypes.De...   Posted 11 days ago   \n",
              "2    Experience with classical ML algorithms includ...   Posted 13 days ago   \n",
              "3    Build a united big data processing and feature...  Posted 30+ days ago   \n",
              "4    Design, build and evaluate data models and dat...  Posted 30+ days ago   \n",
              "..                                                 ...                  ...   \n",
              "247  Understanding business objectives and developi...  Posted 30+ days ago   \n",
              "248  Develop and mature new technologies related to...  Posted 30+ days ago   \n",
              "249  Hands-on Development and Support experience wi...    Posted 6 days ago   \n",
              "250  About the Role.... About Customer Obsession ML...  Posted 30+ days ago   \n",
              "251  Responsible for testing of server platform Mac...   Posted 28 days ago   \n",
              "\n",
              "          today                     job_salary  \\\n",
              "0    2023-03-08                              ?   \n",
              "1    2023-03-08      ₹20,000 - ₹30,000 a month   \n",
              "2    2023-03-08                              ?   \n",
              "3    2023-03-08                              ?   \n",
              "4    2023-03-08  ₹7,00,000 - ₹15,00,000 a year   \n",
              "..          ...                            ...   \n",
              "247  2023-03-08                              ?   \n",
              "248  2023-03-08                              ?   \n",
              "249  2023-03-08                              ?   \n",
              "250  2023-03-08                              ?   \n",
              "251  2023-03-08                              ?   \n",
              "\n",
              "                                               job_url  \n",
              "0    https://in.indeed.com/rc/clk?jk=92c8c50773ef33...  \n",
              "1    https://in.indeed.com/company/Empiric-Infosys/...  \n",
              "2    https://in.indeed.com/rc/clk?jk=40f78255092ac9...  \n",
              "3    https://in.indeed.com/rc/clk?jk=85bc4572146a2d...  \n",
              "4    https://in.indeed.com/company/Finarkein-Analyt...  \n",
              "..                                                 ...  \n",
              "247  https://in.indeed.com/rc/clk?jk=4d71a367a8065d...  \n",
              "248  https://in.indeed.com/rc/clk?jk=5b97a56c70ff29...  \n",
              "249  https://in.indeed.com/rc/clk?jk=d31a2b6991be54...  \n",
              "250  https://in.indeed.com/pagead/clk?mo=r&ad=-6NYl...  \n",
              "251  https://in.indeed.com/rc/clk?jk=86b7ee059bfbd9...  \n",
              "\n",
              "[252 rows x 9 columns]"
            ]
          },
          "execution_count": 26,
          "metadata": {},
          "output_type": "execute_result"
        }
      ],
      "source": [
        "ml_df=pd.DataFrame(data_ml3)\n",
        "ml_df"
      ]
    },
    {
      "attachments": {},
      "cell_type": "markdown",
      "id": "8abf677d",
      "metadata": {},
      "source": [
        "### Combining both Dataframes"
      ]
    },
    {
      "cell_type": "code",
      "execution_count": null,
      "id": "9679e865",
      "metadata": {},
      "outputs": [
        {
          "data": {
            "text/plain": [
              "job_title       0\n",
              "job_role        0\n",
              "company         0\n",
              "job_location    0\n",
              "job_summary     0\n",
              "post_date       0\n",
              "today           0\n",
              "job_salary      0\n",
              "job_url         0\n",
              "dtype: int64"
            ]
          },
          "execution_count": 28,
          "metadata": {},
          "output_type": "execute_result"
        }
      ],
      "source": [
        "final_df=df.append(ml_df)\n",
        "final_df.isnull().sum()"
      ]
    },
    {
      "cell_type": "code",
      "execution_count": null,
      "id": "33e1fa60",
      "metadata": {},
      "outputs": [],
      "source": [
        "final_df.to_csv(\"final.csv\",index=False)"
      ]
    },
    {
      "cell_type": "markdown",
      "id": "15df3182-582c-431a-95d1-b9af3f0cdae4",
      "metadata": {
        "id": "15df3182-582c-431a-95d1-b9af3f0cdae4"
      },
      "source": [
        "## Exploratory Data Analysis (EDA)\n",
        "\n",
        "### Data Cleaning\n",
        "- Clean the data.\n",
        "- Calculate the date of posting from the columns('post_data', 'today')\n",
        "- Split the 'job_salary' column into 'job_salary_lower' and 'job_salary_upper'\n",
        "- Create a new column called 'is_remote', which will be true if its a remote job.\n",
        "- Clean the 'job_location' column to include only city name in India, if no city is found, make it by default 'India'. If its remote make the value as 'Remote'\n",
        "\n",
        "### Visualization\n",
        "- How are the jobs distributed geographically?\n",
        "- Show which companies have more than 5 job-postings\n",
        "- Show the distribution of number of characters in description.\n",
        "- Show the distribution of salaries in remote jobs based on roles.\n",
        "- Show the distribution of salaries in 'Bangalore'"
      ]
    },
    {
      "cell_type": "code",
      "execution_count": 18,
      "id": "132b38b9-ede2-47bd-9ecc-93715cecb584",
      "metadata": {
        "id": "132b38b9-ede2-47bd-9ecc-93715cecb584"
      },
      "outputs": [
        {
          "data": {
            "text/html": [
              "<div>\n",
              "<style scoped>\n",
              "    .dataframe tbody tr th:only-of-type {\n",
              "        vertical-align: middle;\n",
              "    }\n",
              "\n",
              "    .dataframe tbody tr th {\n",
              "        vertical-align: top;\n",
              "    }\n",
              "\n",
              "    .dataframe thead th {\n",
              "        text-align: right;\n",
              "    }\n",
              "</style>\n",
              "<table border=\"1\" class=\"dataframe\">\n",
              "  <thead>\n",
              "    <tr style=\"text-align: right;\">\n",
              "      <th></th>\n",
              "      <th>job_title</th>\n",
              "      <th>job_role</th>\n",
              "      <th>company</th>\n",
              "      <th>job_location</th>\n",
              "      <th>job_summary</th>\n",
              "      <th>post_date</th>\n",
              "      <th>today</th>\n",
              "      <th>job_salary</th>\n",
              "      <th>job_url</th>\n",
              "    </tr>\n",
              "  </thead>\n",
              "  <tbody>\n",
              "    <tr>\n",
              "      <th>0</th>\n",
              "      <td>Data Engineer</td>\n",
              "      <td>Data Engineer</td>\n",
              "      <td>Deloitte</td>\n",
              "      <td>Chennai, Tamil Nadu</td>\n",
              "      <td>Develop solutions with an Agile Development te...</td>\n",
              "      <td>Posted 30+ days ago</td>\n",
              "      <td>2023-03-08</td>\n",
              "      <td>?</td>\n",
              "      <td>https://in.indeed.com/pagead/clk?mo=r&amp;ad=-6NYl...</td>\n",
              "    </tr>\n",
              "    <tr>\n",
              "      <th>1</th>\n",
              "      <td>Data Analytics Engineer</td>\n",
              "      <td>Data Engineer</td>\n",
              "      <td>Larsen &amp; Toubro Limited</td>\n",
              "      <td>Vadodara, Gujarat</td>\n",
              "      <td>Possess past experience in developing Systems ...</td>\n",
              "      <td>Posted Today</td>\n",
              "      <td>2023-03-08</td>\n",
              "      <td>₹4,00,000 - ₹7,00,000 a year</td>\n",
              "      <td>https://in.indeed.com/rc/clk?jk=67af78864fbf6c...</td>\n",
              "    </tr>\n",
              "    <tr>\n",
              "      <th>2</th>\n",
              "      <td>Sr. Data Engineer</td>\n",
              "      <td>Data Engineer</td>\n",
              "      <td>Genworth</td>\n",
              "      <td>Noida, Uttar Pradesh</td>\n",
              "      <td>Build machine learning pipelines for a variety...</td>\n",
              "      <td>Posted 30+ days ago</td>\n",
              "      <td>2023-03-08</td>\n",
              "      <td>?</td>\n",
              "      <td>https://in.indeed.com/pagead/clk?mo=r&amp;ad=-6NYl...</td>\n",
              "    </tr>\n",
              "    <tr>\n",
              "      <th>3</th>\n",
              "      <td>Data Analyst/Data Engineer</td>\n",
              "      <td>Data Engineer</td>\n",
              "      <td>The English Channel</td>\n",
              "      <td>Ahmedabad, Gujarat</td>\n",
              "      <td>Extract data from online sources and capture t...</td>\n",
              "      <td>Posted 8 days ago</td>\n",
              "      <td>2023-03-08</td>\n",
              "      <td>₹6,00,000 - ₹9,00,000 a year</td>\n",
              "      <td>https://in.indeed.com/company/The-English-Chan...</td>\n",
              "    </tr>\n",
              "    <tr>\n",
              "      <th>4</th>\n",
              "      <td>Data Engineer</td>\n",
              "      <td>Data Engineer</td>\n",
              "      <td>Global Employees</td>\n",
              "      <td>Remote</td>\n",
              "      <td>Design, build and maintain reliable and scalab...</td>\n",
              "      <td>Posted 3 days ago</td>\n",
              "      <td>2023-03-08</td>\n",
              "      <td>₹10,00,000 - ₹30,00,000 a year</td>\n",
              "      <td>https://in.indeed.com/company/Global-Employees...</td>\n",
              "    </tr>\n",
              "  </tbody>\n",
              "</table>\n",
              "</div>"
            ],
            "text/plain": [
              "                    job_title       job_role                  company  \\\n",
              "0               Data Engineer  Data Engineer                 Deloitte   \n",
              "1     Data Analytics Engineer  Data Engineer  Larsen & Toubro Limited   \n",
              "2           Sr. Data Engineer  Data Engineer                 Genworth   \n",
              "3  Data Analyst/Data Engineer  Data Engineer      The English Channel   \n",
              "4               Data Engineer  Data Engineer         Global Employees   \n",
              "\n",
              "           job_location                                        job_summary  \\\n",
              "0   Chennai, Tamil Nadu  Develop solutions with an Agile Development te...   \n",
              "1     Vadodara, Gujarat  Possess past experience in developing Systems ...   \n",
              "2  Noida, Uttar Pradesh  Build machine learning pipelines for a variety...   \n",
              "3    Ahmedabad, Gujarat  Extract data from online sources and capture t...   \n",
              "4                Remote  Design, build and maintain reliable and scalab...   \n",
              "\n",
              "             post_date       today                      job_salary  \\\n",
              "0  Posted 30+ days ago  2023-03-08                               ?   \n",
              "1         Posted Today  2023-03-08    ₹4,00,000 - ₹7,00,000 a year   \n",
              "2  Posted 30+ days ago  2023-03-08                               ?   \n",
              "3    Posted 8 days ago  2023-03-08    ₹6,00,000 - ₹9,00,000 a year   \n",
              "4    Posted 3 days ago  2023-03-08  ₹10,00,000 - ₹30,00,000 a year   \n",
              "\n",
              "                                             job_url  \n",
              "0  https://in.indeed.com/pagead/clk?mo=r&ad=-6NYl...  \n",
              "1  https://in.indeed.com/rc/clk?jk=67af78864fbf6c...  \n",
              "2  https://in.indeed.com/pagead/clk?mo=r&ad=-6NYl...  \n",
              "3  https://in.indeed.com/company/The-English-Chan...  \n",
              "4  https://in.indeed.com/company/Global-Employees...  "
            ]
          },
          "execution_count": 18,
          "metadata": {},
          "output_type": "execute_result"
        }
      ],
      "source": [
        "df=pd.read_csv(\"data2.csv\")\n",
        "df.head()"
      ]
    },
    {
      "cell_type": "code",
      "execution_count": 19,
      "id": "88bf3b46",
      "metadata": {},
      "outputs": [
        {
          "data": {
            "text/plain": [
              "array(['Data Engineer', 'Data Analyst', 'Data Scientist'], dtype=object)"
            ]
          },
          "execution_count": 19,
          "metadata": {},
          "output_type": "execute_result"
        }
      ],
      "source": [
        "df.job_role.unique()"
      ]
    },
    {
      "cell_type": "code",
      "execution_count": null,
      "id": "8c59758d",
      "metadata": {},
      "outputs": [],
      "source": []
    },
    {
      "cell_type": "code",
      "execution_count": null,
      "id": "0f4bdf1a",
      "metadata": {},
      "outputs": [],
      "source": []
    },
    {
      "cell_type": "code",
      "execution_count": null,
      "id": "8d201e0d",
      "metadata": {},
      "outputs": [],
      "source": []
    },
    {
      "cell_type": "code",
      "execution_count": null,
      "id": "3895eeb3",
      "metadata": {},
      "outputs": [],
      "source": []
    },
    {
      "cell_type": "code",
      "execution_count": null,
      "id": "a32a23b3",
      "metadata": {},
      "outputs": [],
      "source": []
    },
    {
      "cell_type": "code",
      "execution_count": null,
      "id": "0b64c203",
      "metadata": {},
      "outputs": [],
      "source": []
    },
    {
      "cell_type": "code",
      "execution_count": null,
      "id": "640a225b",
      "metadata": {},
      "outputs": [],
      "source": []
    },
    {
      "cell_type": "code",
      "execution_count": null,
      "id": "959f6e85",
      "metadata": {},
      "outputs": [],
      "source": []
    },
    {
      "cell_type": "code",
      "execution_count": null,
      "id": "7e656a7a",
      "metadata": {},
      "outputs": [],
      "source": []
    },
    {
      "cell_type": "code",
      "execution_count": null,
      "id": "bfeac6af",
      "metadata": {},
      "outputs": [],
      "source": []
    },
    {
      "cell_type": "code",
      "execution_count": null,
      "id": "cb7460bf",
      "metadata": {},
      "outputs": [],
      "source": []
    },
    {
      "cell_type": "code",
      "execution_count": null,
      "id": "e170adc3",
      "metadata": {},
      "outputs": [],
      "source": []
    },
    {
      "cell_type": "code",
      "execution_count": null,
      "id": "c21777cb",
      "metadata": {},
      "outputs": [],
      "source": []
    },
    {
      "cell_type": "markdown",
      "id": "2867cfb6-e21b-474d-8472-cd81c311e3be",
      "metadata": {
        "id": "2867cfb6-e21b-474d-8472-cd81c311e3be"
      },
      "source": [
        "# Clustering"
      ]
    },
    {
      "cell_type": "code",
      "execution_count": null,
      "id": "a9dc93d9-3ea2-459a-a9f0-c47de5cf4db1",
      "metadata": {
        "id": "a9dc93d9-3ea2-459a-a9f0-c47de5cf4db1"
      },
      "outputs": [],
      "source": []
    }
  ],
  "metadata": {
    "colab": {
      "provenance": []
    },
    "kernelspec": {
      "display_name": "Python 3",
      "language": "python",
      "name": "python3"
    },
    "language_info": {
      "codemirror_mode": {
        "name": "ipython",
        "version": 3
      },
      "file_extension": ".py",
      "mimetype": "text/x-python",
      "name": "python",
      "nbconvert_exporter": "python",
      "pygments_lexer": "ipython3",
      "version": "3.10.6"
    },
    "vscode": {
      "interpreter": {
        "hash": "26de051ba29f2982a8de78e945f0abaf191376122a1563185a90213a26c5da77"
      }
    }
  },
  "nbformat": 4,
  "nbformat_minor": 5
}
